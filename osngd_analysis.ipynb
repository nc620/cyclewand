{
 "cells": [
  {
   "cell_type": "markdown",
   "id": "073010c3",
   "metadata": {},
   "source": [
    "Data Analysis for cycle wands project\n",
    "Code will use OS NGD API to obtain data on cycle lanes in the UK\n",
    "Analysis will be conducted to split cycle lanes by type and location (London Boroughs)"
   ]
  },
  {
   "cell_type": "code",
   "execution_count": null,
   "id": "1a766b21",
   "metadata": {},
   "outputs": [],
   "source": [
    "!pip install -r requirements.txt\n",
    "import requests\n",
    "import geopandas as gpd\n",
    "import pandas as pd\n"
   ]
  },
  {
   "cell_type": "code",
   "execution_count": null,
   "id": "30390fb1",
   "metadata": {},
   "outputs": [
    {
     "name": "stdout",
     "output_type": "stream",
     "text": [
      "Number returned: 5\n",
      "Number matched: None\n",
      "Total features returned: 100\n"
     ]
    }
   ],
   "source": [
    "import requests\n",
    "import json\n",
    "\n",
    "# API features\n",
    "api_key = \"iKiHPsM65ooKNn5q48AgTlgJbkpmen6h\"\n",
    "collection_id = \"trn-ntwk-cyclelane-1\"\n",
    "os_ngd_url = f\"https://api.os.uk/features/ngd/ofa/v1/collections/{collection_id}/items\"s\n",
    "# Parameters\n",
    "request_parameters = {\n",
    "    \"key\": api_key,\n",
    "    \"bbox\": \"-0.5202136724,51.3257416338,0.2584423334,51.6941179174\",\n",
    "    \"limit\": 100\n",
    "}\n",
    "os_response = requests.get(url = os_ngd_url, headers={'key': api_key}, params=request_parameters, timeout=40).json()\n",
    "\n",
    "print(\"Number returned:\", os_response.get(\"numberReturned\"))\n",
    "print(\"Number matched:\", os_response.get(\"numberMatched\"))\n",
    "\n",
    "request_parameters = {\n",
    "    \"limit\": 10000\n",
    "}\n",
    "\n",
    "os_response = requests.get(\n",
    "    url=f\"https://api.os.uk/features/ngd/ofa/v1/collections/{collection_id}/items\",\n",
    "    headers={'key': api_key},\n",
    "    params=request_parameters,\n",
    "    timeout=20\n",
    ").json()\n",
    "\n",
    "features = os_response.get('features', [])\n",
    "print(\"Total features returned:\", len(features))\n"
   ]
  }
 ],
 "metadata": {
  "kernelspec": {
   "display_name": "Python 3",
   "language": "python",
   "name": "python3"
  },
  "language_info": {
   "codemirror_mode": {
    "name": "ipython",
    "version": 3
   },
   "file_extension": ".py",
   "mimetype": "text/x-python",
   "name": "python",
   "nbconvert_exporter": "python",
   "pygments_lexer": "ipython3",
   "version": "3.12.1"
  }
 },
 "nbformat": 4,
 "nbformat_minor": 5
}
